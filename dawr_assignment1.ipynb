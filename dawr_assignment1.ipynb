{
 "cells": [
  {
   "cell_type": "markdown",
   "metadata": {},
   "source": [
    "# Data Wrangling - Assignment 1"
   ]
  },
  {
   "cell_type": "markdown",
   "metadata": {},
   "source": [
    "## 0. Setup"
   ]
  },
  {
   "cell_type": "code",
   "execution_count": null,
   "metadata": {},
   "outputs": [],
   "source": [
    "%pip install -r requirements.txt"
   ]
  },
  {
   "cell_type": "code",
   "execution_count": 19,
   "metadata": {},
   "outputs": [],
   "source": [
    "from pathlib import Path\n",
    "from shutil import rmtree\n",
    "\n",
    "import numpy as np\n",
    "import pandas as pd\n",
    "import requests\n"
   ]
  },
  {
   "cell_type": "markdown",
   "metadata": {},
   "source": [
    "## 1. Fetching Data\n",
    "\n",
    "If `FETCH_DATA` is set to True, the raw data from previous executions will be deleted. All data is then fetched again from these data sources:\n",
    "\n",
    "\n",
    "| Data                      | Source                    | URL                                                               | Datatype          |\n",
    "|:---                       |:---                       |:---                                                               | :---              |\n",
    "| Basic Data on Communes    | Bundesamt für Statistik   | https://dam-api.bfs.admin.ch/hub/api/dam/assets/15864450/master   | XLSX File         |"
   ]
  },
  {
   "cell_type": "code",
   "execution_count": 32,
   "metadata": {},
   "outputs": [],
   "source": [
    "FETCH_DATA = True\n",
    "RAW_DATA_PATH = Path().cwd() / \"raw_data\"\n",
    "COMMUNES_PATH = RAW_DATA_PATH /  \"communes.xlsx\""
   ]
  },
  {
   "cell_type": "code",
   "execution_count": 33,
   "metadata": {},
   "outputs": [],
   "source": [
    "if FETCH_DATA:\n",
    "    if RAW_DATA_PATH.exists():\n",
    "        rmtree(RAW_DATA_PATH)\n",
    "    \n",
    "    RAW_DATA_PATH.mkdir()"
   ]
  },
  {
   "cell_type": "markdown",
   "metadata": {},
   "source": [
    "### 1.1. Basic Data: XLSX File for Data on all Comunes"
   ]
  },
  {
   "cell_type": "code",
   "execution_count": 34,
   "metadata": {},
   "outputs": [],
   "source": [
    "if FETCH_DATA:\n",
    "    bfs_url = \"https://dam-api.bfs.admin.ch/hub/api/dam/assets/15864450/master\"\n",
    "\n",
    "    request = requests.get(bfs_url)\n",
    "    request.raise_for_status()\n",
    "\n",
    "    with open(COMMUNES_PATH, \"wb\") as f:\n",
    "        f.write(request.content)"
   ]
  },
  {
   "cell_type": "markdown",
   "metadata": {},
   "source": [
    "### 1.2. Additional Information: Gemeindewappen "
   ]
  },
  {
   "cell_type": "code",
   "execution_count": null,
   "metadata": {},
   "outputs": [],
   "source": []
  },
  {
   "cell_type": "markdown",
   "metadata": {},
   "source": [
    "## 2. Preprocessing\n"
   ]
  },
  {
   "cell_type": "markdown",
   "metadata": {},
   "source": [
    "### 2.1. Basic Data"
   ]
  },
  {
   "cell_type": "code",
   "execution_count": 146,
   "metadata": {},
   "outputs": [
    {
     "data": {
      "text/plain": [
       "{1001: 'Doppleschwand',\n",
       " 1002: 'Entlebuch',\n",
       " 1004: 'Flühli',\n",
       " 1005: 'Hasle',\n",
       " 1007: 'Romoos',\n",
       " 1008: 'Schüpfheim',\n",
       " 1009: 'Werthenstein',\n",
       " 1010: 'Escholzmatt-Marbach',\n",
       " 1021: 'Aesch',\n",
       " 1023: 'Ballwil',\n",
       " 1024: 'Emmen',\n",
       " 1025: 'Ermensee',\n",
       " 1026: 'Eschenbach',\n",
       " 1030: 'Hitzkirch',\n",
       " 1031: 'Hochdorf',\n",
       " 1032: 'Hohenrain',\n",
       " 1033: 'Inwil',\n",
       " 1037: 'Rain',\n",
       " 1039: 'Römerswil',\n",
       " 1040: 'Rothenburg',\n",
       " 1041: 'Schongau',\n",
       " 1051: 'Adligenswil',\n",
       " 1052: 'Buchrain',\n",
       " 1053: 'Dierikon',\n",
       " 1054: 'Ebikon',\n",
       " 1055: 'Gisikon',\n",
       " 1056: 'Greppen',\n",
       " 1057: 'Honau',\n",
       " 1058: 'Horw',\n",
       " 1059: 'Kriens',\n",
       " 1061: 'Luzern',\n",
       " 1062: 'Malters',\n",
       " 1063: 'Meggen',\n",
       " 1064: 'Meierskappel',\n",
       " 1065: 'Root',\n",
       " 1066: 'Schwarzenberg',\n",
       " 1067: 'Udligenswil',\n",
       " 1068: 'Vitznau',\n",
       " 1069: 'Weggis',\n",
       " 1081: 'Beromünster',\n",
       " 1082: 'Büron',\n",
       " 1083: 'Buttisholz',\n",
       " 1084: 'Eich',\n",
       " 1085: 'Geuensee',\n",
       " 1086: 'Grosswangen',\n",
       " 1088: 'Hildisrieden',\n",
       " 1089: 'Knutwil',\n",
       " 1091: 'Mauensee',\n",
       " 1093: 'Neuenkirch',\n",
       " 1094: 'Nottwil',\n",
       " 1095: 'Oberkirch',\n",
       " 1097: 'Rickenbach',\n",
       " 1098: 'Ruswil',\n",
       " 1099: 'Schenkon',\n",
       " 1100: 'Schlierbach',\n",
       " 1102: 'Sempach',\n",
       " 1103: 'Sursee',\n",
       " 1104: 'Triengen',\n",
       " 1107: 'Wolhusen',\n",
       " 1121: 'Alberswil',\n",
       " 1122: 'Altbüron',\n",
       " 1123: 'Altishofen',\n",
       " 1125: 'Dagmersellen',\n",
       " 1127: 'Egolzwil',\n",
       " 1128: 'Ettiswil',\n",
       " 1129: 'Fischbach',\n",
       " 1131: 'Grossdietwil',\n",
       " 1132: 'Hergiswil bei Willisau',\n",
       " 1135: 'Luthern',\n",
       " 1136: 'Menznau',\n",
       " 1137: 'Nebikon',\n",
       " 1139: 'Pfaffnau',\n",
       " 1140: 'Reiden',\n",
       " 1142: 'Roggliswil',\n",
       " 1143: 'Schötz',\n",
       " 1145: 'Ufhusen',\n",
       " 1146: 'Wauwil',\n",
       " 1147: 'Wikon',\n",
       " 1150: 'Zell',\n",
       " 1151: 'Willisau'}"
      ]
     },
     "execution_count": 146,
     "metadata": {},
     "output_type": "execute_result"
    }
   ],
   "source": [
    "communes = pd.read_excel(\n",
    "              COMMUNES_PATH,\n",
    "              skiprows=[0, 1, 2, 3, 4, 6, 7],\n",
    "              skipfooter=16,\n",
    "              index_col=0\n",
    "            )\n",
    "\n",
    "communes.rename(columns = {\n",
    "    communes.columns[14]: communes.columns[14][:-3],\n",
    "    communes.columns[32]: communes.columns[32][:-3],\n",
    "    },\n",
    "    inplace=True\n",
    ")\n",
    "\n",
    "communes.drop(labels=np.nan, axis=0, inplace=True)\n",
    "communes.set_index(communes.index.astype('int'), inplace=True)\n",
    "\n",
    "communes_lu = communes.loc[1001:1151]\n",
    "communes_lu.loc[:, 'Gemeindename'] = communes_lu[\"Gemeindename\"].str.replace(\n",
    "    r'(?P<name>\\w+) \\(LU\\)',\n",
    "    lambda m: m.group('name'),\n",
    "    regex=True\n",
    ")\n",
    "\n",
    "cummunes_lu_names = communes_lu.loc[:, 'Gemeindename']\n",
    "cummunes_lu_names.to_dict()"
   ]
  }
 ],
 "metadata": {
  "kernelspec": {
   "display_name": "dawr-ass1",
   "language": "python",
   "name": "python3"
  },
  "language_info": {
   "codemirror_mode": {
    "name": "ipython",
    "version": 3
   },
   "file_extension": ".py",
   "mimetype": "text/x-python",
   "name": "python",
   "nbconvert_exporter": "python",
   "pygments_lexer": "ipython3",
   "version": "3.10.14"
  }
 },
 "nbformat": 4,
 "nbformat_minor": 2
}
