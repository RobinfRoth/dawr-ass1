{
 "cells": [
  {
   "cell_type": "markdown",
   "metadata": {},
   "source": [
    "# Data Wrangling - Assignment 1"
   ]
  },
  {
   "cell_type": "markdown",
   "metadata": {},
   "source": [
    "## 0. Setup"
   ]
  },
  {
   "cell_type": "code",
   "execution_count": null,
   "metadata": {},
   "outputs": [],
   "source": [
    "%pip install -r requirements.txt"
   ]
  },
  {
   "cell_type": "code",
   "execution_count": 40,
   "metadata": {},
   "outputs": [],
   "source": [
    "from pathlib import Path\n",
    "from shutil import rmtree\n",
    "from typing import Dict, List, Tuple\n",
    "\n",
    "import numpy as np\n",
    "import pandas as pd\n",
    "import requests\n",
    "\n",
    "from bs4 import BeautifulSoup"
   ]
  },
  {
   "cell_type": "markdown",
   "metadata": {},
   "source": [
    "## 1. Fetching Data and Preprocessing\n",
    "\n",
    "If `FETCH_DATA` is set to True, the raw data from previous executions will be deleted. All data is then fetched again from these data sources:\n",
    "\n",
    "\n",
    "| Data                      | Source                         | URL                                                                                  | Datatype          |\n",
    "|:---                       |:---                            |:---                                                                                  | :---              |\n",
    "| Basic Data on Communes    | Bundesamt für Statistik        | https://dam-api.bfs.admin.ch/hub/api/dam/assets/15864450/master                      | XLSX File         |\n",
    "| Coat of Arms of Communes  | Staatsarchiv Kanton Luzern     | https://staatsarchiv.lu.ch/kantonsgeschichte/gemeinden/Gemeindewappen/*\\[commune\\]*  | JPG Files         |"
   ]
  },
  {
   "cell_type": "code",
   "execution_count": 30,
   "metadata": {},
   "outputs": [],
   "source": [
    "FETCH_DATA = True\n",
    "RAW_DATA_PATH = Path().cwd() / \"raw_data\"\n",
    "COMMUNES_PATH = RAW_DATA_PATH /  \"communes.xlsx\"\n",
    "COAT_OF_ARMS_PATH = RAW_DATA_PATH / \"coat_of_arms\""
   ]
  },
  {
   "cell_type": "code",
   "execution_count": 41,
   "metadata": {},
   "outputs": [],
   "source": [
    "def delete_raw_data(raw_data_dir: Path, subdirs: List[Path]) -> None:\n",
    "    '''\n",
    "    Deletes all raw data if the raw data directory exists.\n",
    "\n",
    "    Parameters\n",
    "    ----------\n",
    "    raw_data_dir : Path\n",
    "        The path of the directory that contains the raw data.\n",
    "    subdirs : list[Path]\n",
    "        A list of subdirs as an absolute path to create inside the raw data directory.\n",
    "    '''\n",
    "    if raw_data_dir.exists():\n",
    "        rmtree(raw_data_dir)\n",
    "    \n",
    "    raw_data_dir.mkdir()\n",
    "\n",
    "    for dir in subdirs:\n",
    "        dir.mkdir()"
   ]
  },
  {
   "cell_type": "code",
   "execution_count": 42,
   "metadata": {},
   "outputs": [],
   "source": [
    "if FETCH_DATA:\n",
    "    delete_raw_data(RAW_DATA_PATH, [COAT_OF_ARMS_PATH])"
   ]
  },
  {
   "cell_type": "markdown",
   "metadata": {},
   "source": [
    "### 1.1. Basic Data: XLSX File for Data on all Comunes"
   ]
  },
  {
   "cell_type": "markdown",
   "metadata": {},
   "source": [
    "#### 1.1.1. Fetch XLSX File"
   ]
  },
  {
   "cell_type": "code",
   "execution_count": 43,
   "metadata": {},
   "outputs": [],
   "source": [
    "def download_binary_file(url: str, destination_dir: Path) -> None:\n",
    "    '''\n",
    "    Downloads a file from a given URL via a HTTP GET request.\n",
    "\n",
    "    Parameters\n",
    "    ----------\n",
    "    url : str\n",
    "        The URL of the file.\n",
    "    destination_dir : Path\n",
    "        The path of directory in which the file should be stored.\n",
    "    Returns\n",
    "    -------\n",
    "    None\n",
    "    '''\n",
    "    request = requests.get(url)\n",
    "    request.raise_for_status()\n",
    "\n",
    "    with open(destination_dir, \"wb\") as f:\n",
    "        f.write(request.content)"
   ]
  },
  {
   "cell_type": "code",
   "execution_count": 44,
   "metadata": {},
   "outputs": [],
   "source": [
    "if FETCH_DATA:\n",
    "    bfs_url = 'https://dam-api.bfs.admin.ch/hub/api/dam/assets/15864450/master'\n",
    "    download_binary_file(bfs_url, destination_dir=COMMUNES_PATH)"
   ]
  },
  {
   "cell_type": "markdown",
   "metadata": {},
   "source": [
    "#### 1.1.2. Preprocess XLSX File"
   ]
  },
  {
   "cell_type": "code",
   "execution_count": 50,
   "metadata": {},
   "outputs": [],
   "source": [
    "def preprocess_communes_df(raw_communes: pd.DataFrame, min_bfs_nr: int, max_bfs_nr: int) -> Tuple[pd.DataFrame, Dict[int, str]]:\n",
    "    '''\n",
    "    Applies the preprocessing steps to the raw communes DataFrame.\n",
    "\n",
    "    Parameters\n",
    "    ----------\n",
    "    raw_communes : DataFrame\n",
    "        The raw DataFrame after loading from an excel file.\n",
    "    min_bfs_nr : int\n",
    "        The BFS number\n",
    "        (`see Wikipedia <https://en.wikipedia.org/wiki/Community_Identification_Number#Switzerland>`_)\n",
    "        of the first commune to include in the preprocssed DataFrame.\n",
    "    max_bfs_nr : int\n",
    "        The BFS number of the last commune to include in the preprocessed\n",
    "        DataFrame (The commune with this number will be included in the\n",
    "        preprocessed DataFrame).\n",
    "    \n",
    "    Returns\n",
    "    -------\n",
    "    communes : pd.DataFrame\n",
    "        The complete preprocessed DataFrame.\n",
    "    communes_names : dict\n",
    "        A DataFrame that contains only the names of the communes in the\n",
    "        the range of BFS numbers passed to this function.\n",
    "    '''\n",
    "    \n",
    "    raw_communes.rename(\n",
    "        columns = {\n",
    "            raw_communes.columns[14]: raw_communes.columns[14][:-3],\n",
    "            raw_communes.columns[32]: raw_communes.columns[32][:-3],\n",
    "        },\n",
    "        inplace=True\n",
    "    )\n",
    "\n",
    "    raw_communes.drop(labels=np.nan, axis=0, inplace=True)\n",
    "    raw_communes.set_index(raw_communes.index.astype('int'), inplace=True)\n",
    "\n",
    "    # select communes from that have BFS numbers in the given range\n",
    "    communes = raw_communes.loc[min_bfs_nr:max_bfs_nr]\n",
    "\n",
    "    # Remove the LU suffix present for some communes\n",
    "    communes.loc[:, 'Gemeindename'] = communes[\"Gemeindename\"].str.replace(\n",
    "        r'(?P<name>\\w+) \\(LU\\)',\n",
    "        lambda m: m.group('name'),\n",
    "        regex=True,\n",
    "    )\n",
    "\n",
    "    communes_names = communes.loc[:, 'Gemeindename'].sort_values().to_dict()\n",
    "    return communes, communes_names"
   ]
  },
  {
   "cell_type": "code",
   "execution_count": 51,
   "metadata": {},
   "outputs": [],
   "source": [
    "communes = pd.read_excel(\n",
    "    COMMUNES_PATH,\n",
    "    skiprows=[0, 1, 2, 3, 4, 6, 7],\n",
    "    skipfooter=16,\n",
    "    index_col=0,\n",
    ")\n",
    "\n",
    "communes_lu, communes_lu_names = preprocess_communes_df(\n",
    "    raw_communes=communes,\n",
    "    min_bfs_nr=1001,\n",
    "    max_bfs_nr=1151,\n",
    ")"
   ]
  },
  {
   "cell_type": "markdown",
   "metadata": {},
   "source": [
    "### 1.2. Additional Information: Gemeindewappen "
   ]
  },
  {
   "cell_type": "code",
   "execution_count": 53,
   "metadata": {},
   "outputs": [],
   "source": [
    "def download_coat_of_arms(source_url: str, destination_dir: Path, commune_names: Dict[int, str], logging=False) -> None:\n",
    "    '''\n",
    "    Downloads images of all coats of arms from Staatsarchiv Luzern.\n",
    "\n",
    "    Parameters\n",
    "    ----------\n",
    "    source_url : str\n",
    "        The URL to download the images from.\n",
    "    destination_dir : Path\n",
    "        The Path of the directory where the coats of arms should be stored.\n",
    "    commune_names : dict\n",
    "        A dict that matches all BFS numbers of the communes to their names.\n",
    "    logging : bool\n",
    "        Wheter to print logging outputs or not. The Default is False,\n",
    "        meaning no logging statements will be printed.\n",
    "    \n",
    "    Returns\n",
    "    -------\n",
    "    None\n",
    "    '''\n",
    "    # fetch images of coat of arms for all communes\n",
    "    for cid, commune in commune_names.items():\n",
    "        # handle concatenated and multi-word commune names\n",
    "        if '-' in commune:\n",
    "            commune = commune.split('-')[0]\n",
    "        elif ' ' in commune:\n",
    "            commune = commune.split(' ')[0]\n",
    "        # The coat of arms of 'Willisau' is stored under 'Willisau-Stadt'\n",
    "        # in https://staatsarchiv.lu.ch\n",
    "        elif commune == 'Willisau':\n",
    "            commune = 'Willisau-Stadt'\n",
    "\n",
    "        current_url = source_url + commune\n",
    "        if logging:\n",
    "            print(f'Fetching {current_url}')\n",
    "        request = requests.get(current_url)\n",
    "        request.raise_for_status()\n",
    "\n",
    "        soup = BeautifulSoup(request.text, 'html.parser')\n",
    "        img = soup.find(id='maincontent_1_imgImage')\n",
    "        img_url = 'https://staatsarchiv.lu.ch' + img.get('src')\n",
    "\n",
    "        img_request = requests.get(img_url)\n",
    "        img_request.raise_for_status()\n",
    "\n",
    "        current_img_path = destination_dir / f'{cid}.jpg'\n",
    "        with open(current_img_path, \"wb\") as f:\n",
    "            f.write(img_request.content)"
   ]
  },
  {
   "cell_type": "code",
   "execution_count": 54,
   "metadata": {},
   "outputs": [
    {
     "name": "stdout",
     "output_type": "stream",
     "text": [
      "Fetching https://staatsarchiv.lu.ch/kantonsgeschichte/gemeinden/Gemeindewappen/Adligenswil\n",
      "Fetching https://staatsarchiv.lu.ch/kantonsgeschichte/gemeinden/Gemeindewappen/Aesch\n",
      "Fetching https://staatsarchiv.lu.ch/kantonsgeschichte/gemeinden/Gemeindewappen/Alberswil\n",
      "Fetching https://staatsarchiv.lu.ch/kantonsgeschichte/gemeinden/Gemeindewappen/Altbüron\n",
      "Fetching https://staatsarchiv.lu.ch/kantonsgeschichte/gemeinden/Gemeindewappen/Altishofen\n",
      "Fetching https://staatsarchiv.lu.ch/kantonsgeschichte/gemeinden/Gemeindewappen/Ballwil\n",
      "Fetching https://staatsarchiv.lu.ch/kantonsgeschichte/gemeinden/Gemeindewappen/Beromünster\n",
      "Fetching https://staatsarchiv.lu.ch/kantonsgeschichte/gemeinden/Gemeindewappen/Buchrain\n",
      "Fetching https://staatsarchiv.lu.ch/kantonsgeschichte/gemeinden/Gemeindewappen/Buttisholz\n",
      "Fetching https://staatsarchiv.lu.ch/kantonsgeschichte/gemeinden/Gemeindewappen/Büron\n",
      "Fetching https://staatsarchiv.lu.ch/kantonsgeschichte/gemeinden/Gemeindewappen/Dagmersellen\n",
      "Fetching https://staatsarchiv.lu.ch/kantonsgeschichte/gemeinden/Gemeindewappen/Dierikon\n",
      "Fetching https://staatsarchiv.lu.ch/kantonsgeschichte/gemeinden/Gemeindewappen/Doppleschwand\n",
      "Fetching https://staatsarchiv.lu.ch/kantonsgeschichte/gemeinden/Gemeindewappen/Ebikon\n",
      "Fetching https://staatsarchiv.lu.ch/kantonsgeschichte/gemeinden/Gemeindewappen/Egolzwil\n",
      "Fetching https://staatsarchiv.lu.ch/kantonsgeschichte/gemeinden/Gemeindewappen/Eich\n",
      "Fetching https://staatsarchiv.lu.ch/kantonsgeschichte/gemeinden/Gemeindewappen/Emmen\n",
      "Fetching https://staatsarchiv.lu.ch/kantonsgeschichte/gemeinden/Gemeindewappen/Entlebuch\n",
      "Fetching https://staatsarchiv.lu.ch/kantonsgeschichte/gemeinden/Gemeindewappen/Ermensee\n",
      "Fetching https://staatsarchiv.lu.ch/kantonsgeschichte/gemeinden/Gemeindewappen/Eschenbach\n",
      "Fetching https://staatsarchiv.lu.ch/kantonsgeschichte/gemeinden/Gemeindewappen/Escholzmatt\n",
      "Fetching https://staatsarchiv.lu.ch/kantonsgeschichte/gemeinden/Gemeindewappen/Ettiswil\n",
      "Fetching https://staatsarchiv.lu.ch/kantonsgeschichte/gemeinden/Gemeindewappen/Fischbach\n",
      "Fetching https://staatsarchiv.lu.ch/kantonsgeschichte/gemeinden/Gemeindewappen/Flühli\n",
      "Fetching https://staatsarchiv.lu.ch/kantonsgeschichte/gemeinden/Gemeindewappen/Geuensee\n",
      "Fetching https://staatsarchiv.lu.ch/kantonsgeschichte/gemeinden/Gemeindewappen/Gisikon\n",
      "Fetching https://staatsarchiv.lu.ch/kantonsgeschichte/gemeinden/Gemeindewappen/Greppen\n",
      "Fetching https://staatsarchiv.lu.ch/kantonsgeschichte/gemeinden/Gemeindewappen/Grossdietwil\n",
      "Fetching https://staatsarchiv.lu.ch/kantonsgeschichte/gemeinden/Gemeindewappen/Grosswangen\n",
      "Fetching https://staatsarchiv.lu.ch/kantonsgeschichte/gemeinden/Gemeindewappen/Hasle\n",
      "Fetching https://staatsarchiv.lu.ch/kantonsgeschichte/gemeinden/Gemeindewappen/Hergiswil\n",
      "Fetching https://staatsarchiv.lu.ch/kantonsgeschichte/gemeinden/Gemeindewappen/Hildisrieden\n",
      "Fetching https://staatsarchiv.lu.ch/kantonsgeschichte/gemeinden/Gemeindewappen/Hitzkirch\n",
      "Fetching https://staatsarchiv.lu.ch/kantonsgeschichte/gemeinden/Gemeindewappen/Hochdorf\n",
      "Fetching https://staatsarchiv.lu.ch/kantonsgeschichte/gemeinden/Gemeindewappen/Hohenrain\n",
      "Fetching https://staatsarchiv.lu.ch/kantonsgeschichte/gemeinden/Gemeindewappen/Honau\n",
      "Fetching https://staatsarchiv.lu.ch/kantonsgeschichte/gemeinden/Gemeindewappen/Horw\n",
      "Fetching https://staatsarchiv.lu.ch/kantonsgeschichte/gemeinden/Gemeindewappen/Inwil\n",
      "Fetching https://staatsarchiv.lu.ch/kantonsgeschichte/gemeinden/Gemeindewappen/Knutwil\n",
      "Fetching https://staatsarchiv.lu.ch/kantonsgeschichte/gemeinden/Gemeindewappen/Kriens\n",
      "Fetching https://staatsarchiv.lu.ch/kantonsgeschichte/gemeinden/Gemeindewappen/Luthern\n",
      "Fetching https://staatsarchiv.lu.ch/kantonsgeschichte/gemeinden/Gemeindewappen/Luzern\n",
      "Fetching https://staatsarchiv.lu.ch/kantonsgeschichte/gemeinden/Gemeindewappen/Malters\n",
      "Fetching https://staatsarchiv.lu.ch/kantonsgeschichte/gemeinden/Gemeindewappen/Mauensee\n",
      "Fetching https://staatsarchiv.lu.ch/kantonsgeschichte/gemeinden/Gemeindewappen/Meggen\n",
      "Fetching https://staatsarchiv.lu.ch/kantonsgeschichte/gemeinden/Gemeindewappen/Meierskappel\n",
      "Fetching https://staatsarchiv.lu.ch/kantonsgeschichte/gemeinden/Gemeindewappen/Menznau\n",
      "Fetching https://staatsarchiv.lu.ch/kantonsgeschichte/gemeinden/Gemeindewappen/Nebikon\n",
      "Fetching https://staatsarchiv.lu.ch/kantonsgeschichte/gemeinden/Gemeindewappen/Neuenkirch\n",
      "Fetching https://staatsarchiv.lu.ch/kantonsgeschichte/gemeinden/Gemeindewappen/Nottwil\n",
      "Fetching https://staatsarchiv.lu.ch/kantonsgeschichte/gemeinden/Gemeindewappen/Oberkirch\n",
      "Fetching https://staatsarchiv.lu.ch/kantonsgeschichte/gemeinden/Gemeindewappen/Pfaffnau\n",
      "Fetching https://staatsarchiv.lu.ch/kantonsgeschichte/gemeinden/Gemeindewappen/Rain\n",
      "Fetching https://staatsarchiv.lu.ch/kantonsgeschichte/gemeinden/Gemeindewappen/Reiden\n",
      "Fetching https://staatsarchiv.lu.ch/kantonsgeschichte/gemeinden/Gemeindewappen/Rickenbach\n",
      "Fetching https://staatsarchiv.lu.ch/kantonsgeschichte/gemeinden/Gemeindewappen/Roggliswil\n",
      "Fetching https://staatsarchiv.lu.ch/kantonsgeschichte/gemeinden/Gemeindewappen/Romoos\n",
      "Fetching https://staatsarchiv.lu.ch/kantonsgeschichte/gemeinden/Gemeindewappen/Root\n",
      "Fetching https://staatsarchiv.lu.ch/kantonsgeschichte/gemeinden/Gemeindewappen/Rothenburg\n",
      "Fetching https://staatsarchiv.lu.ch/kantonsgeschichte/gemeinden/Gemeindewappen/Ruswil\n",
      "Fetching https://staatsarchiv.lu.ch/kantonsgeschichte/gemeinden/Gemeindewappen/Römerswil\n",
      "Fetching https://staatsarchiv.lu.ch/kantonsgeschichte/gemeinden/Gemeindewappen/Schenkon\n",
      "Fetching https://staatsarchiv.lu.ch/kantonsgeschichte/gemeinden/Gemeindewappen/Schlierbach\n",
      "Fetching https://staatsarchiv.lu.ch/kantonsgeschichte/gemeinden/Gemeindewappen/Schongau\n",
      "Fetching https://staatsarchiv.lu.ch/kantonsgeschichte/gemeinden/Gemeindewappen/Schwarzenberg\n",
      "Fetching https://staatsarchiv.lu.ch/kantonsgeschichte/gemeinden/Gemeindewappen/Schötz\n",
      "Fetching https://staatsarchiv.lu.ch/kantonsgeschichte/gemeinden/Gemeindewappen/Schüpfheim\n",
      "Fetching https://staatsarchiv.lu.ch/kantonsgeschichte/gemeinden/Gemeindewappen/Sempach\n",
      "Fetching https://staatsarchiv.lu.ch/kantonsgeschichte/gemeinden/Gemeindewappen/Sursee\n",
      "Fetching https://staatsarchiv.lu.ch/kantonsgeschichte/gemeinden/Gemeindewappen/Triengen\n",
      "Fetching https://staatsarchiv.lu.ch/kantonsgeschichte/gemeinden/Gemeindewappen/Udligenswil\n",
      "Fetching https://staatsarchiv.lu.ch/kantonsgeschichte/gemeinden/Gemeindewappen/Ufhusen\n",
      "Fetching https://staatsarchiv.lu.ch/kantonsgeschichte/gemeinden/Gemeindewappen/Vitznau\n",
      "Fetching https://staatsarchiv.lu.ch/kantonsgeschichte/gemeinden/Gemeindewappen/Wauwil\n",
      "Fetching https://staatsarchiv.lu.ch/kantonsgeschichte/gemeinden/Gemeindewappen/Weggis\n",
      "Fetching https://staatsarchiv.lu.ch/kantonsgeschichte/gemeinden/Gemeindewappen/Werthenstein\n",
      "Fetching https://staatsarchiv.lu.ch/kantonsgeschichte/gemeinden/Gemeindewappen/Wikon\n",
      "Fetching https://staatsarchiv.lu.ch/kantonsgeschichte/gemeinden/Gemeindewappen/Willisau-Stadt\n",
      "Fetching https://staatsarchiv.lu.ch/kantonsgeschichte/gemeinden/Gemeindewappen/Wolhusen\n",
      "Fetching https://staatsarchiv.lu.ch/kantonsgeschichte/gemeinden/Gemeindewappen/Zell\n"
     ]
    }
   ],
   "source": [
    "if FETCH_DATA:\n",
    "    sa_lu_url = 'https://staatsarchiv.lu.ch/kantonsgeschichte/gemeinden/Gemeindewappen/'\n",
    "    download_coat_of_arms(\n",
    "        sa_lu_url, COAT_OF_ARMS_PATH,\n",
    "        communes_lu_names, logging=True\n",
    "    )"
   ]
  },
  {
   "cell_type": "code",
   "execution_count": null,
   "metadata": {},
   "outputs": [],
   "source": []
  }
 ],
 "metadata": {
  "kernelspec": {
   "display_name": "dawr-ass1",
   "language": "python",
   "name": "python3"
  },
  "language_info": {
   "codemirror_mode": {
    "name": "ipython",
    "version": 3
   },
   "file_extension": ".py",
   "mimetype": "text/x-python",
   "name": "python",
   "nbconvert_exporter": "python",
   "pygments_lexer": "ipython3",
   "version": "3.10.14"
  }
 },
 "nbformat": 4,
 "nbformat_minor": 2
}
